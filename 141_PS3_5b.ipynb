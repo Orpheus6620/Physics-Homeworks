{
 "cells": [
  {
   "cell_type": "markdown",
   "id": "df8b50f7",
   "metadata": {},
   "source": [
    "# Physics 141 Problem Set 3 Question 5b"
   ]
  },
  {
   "cell_type": "markdown",
   "id": "bec3ffdf",
   "metadata": {},
   "source": [
    "The relaxation method involves using an initial guess value of x and plugging it into the equation. Then, the new value of x is then plugged into the equation to obtain a new value for x. After repeating this multiple times, the result of x diverges to its actual value, which is what we will be doing. This is not good to do by hand since this will take so much time, so python is used instead."
   ]
  },
  {
   "cell_type": "code",
   "execution_count": 13,
   "id": "a675f084",
   "metadata": {
    "scrolled": true
   },
   "outputs": [
    {
     "name": "stdout",
     "output_type": "stream",
     "text": [
      "4.965114221697042\n"
     ]
    }
   ],
   "source": [
    "import numpy as np\n",
    "\n",
    "def rnd(x,n):\n",
    "    s = round(x,n-(int(np.floor(np.log10(abs(x))))+1))\n",
    "    return s\n",
    "\n",
    "err = 1\n",
    "x = 1\n",
    "\n",
    "while err!=0:\n",
    "    px = x\n",
    "    x = 5-5/(np.exp(x))\n",
    "    err = abs(rnd(x,7)-rnd(px,7))\n",
    "\n",
    "print(x)"
   ]
  }
 ],
 "metadata": {
  "kernelspec": {
   "display_name": "Python 3 (ipykernel)",
   "language": "python",
   "name": "python3"
  },
  "language_info": {
   "codemirror_mode": {
    "name": "ipython",
    "version": 3
   },
   "file_extension": ".py",
   "mimetype": "text/x-python",
   "name": "python",
   "nbconvert_exporter": "python",
   "pygments_lexer": "ipython3",
   "version": "3.9.12"
  }
 },
 "nbformat": 4,
 "nbformat_minor": 5
}
